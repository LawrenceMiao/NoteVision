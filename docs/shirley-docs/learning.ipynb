{
 "cells": [
  {
   "cell_type": "code",
   "execution_count": null,
   "metadata": {},
   "outputs": [],
   "source": [
    "import torch\n",
    "\n",
    "# float\n",
    "num = torch.tensor(4.)\n",
    "num \n",
    "# tensor(4.) 4. = 4.0\n",
    "num.dtype\n",
    "# torch.float32\n",
    "\n",
    "# vector\n",
    "vector = torch.tensor([1., 2, 3, 4])\n",
    "vector\n",
    "# tensor([1., 2., 3., 4.])\n",
    "# tensors must have the same data type, so all of the values get converted into a float\n",
    "\n",
    "# matrix \n",
    "matrix = torch.tensor([[5., 6],\n",
    "\t\t\t\t\t  [7, 8],\n",
    "\t\t\t\t\t  [9, 10]])\n",
    "matrix\n",
    "# tensor ([5., 6.], [7., 8.], [9., 10.])\n",
    "\n",
    "print(num)\n",
    "# tensor(4.)\n",
    "num.shape\n",
    "# torce.Size([])\n",
    "\n",
    "print(vector)\n",
    "# tensor([1., 2., 3., 4.])\n",
    "vector.shape\n",
    "# torce.Size([4])\n",
    "\n",
    "print(matrix)\n",
    "matrix.shape\n",
    "# torce.Size([3, 2])"
   ]
  }
 ],
 "metadata": {
  "language_info": {
   "name": "python"
  }
 },
 "nbformat": 4,
 "nbformat_minor": 2
}
