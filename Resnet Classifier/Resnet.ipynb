{
 "cells": [
  {
   "cell_type": "code",
   "execution_count": 365,
   "id": "24bac6c5",
   "metadata": {},
   "outputs": [],
   "source": [
    "import torch\n",
    "import torch.nn as nn\n",
    "import numpy as np\n",
    "\n",
    "import PIL.Image as Image\n",
    "import matplotlib.pyplot as plt"
   ]
  },
  {
   "cell_type": "markdown",
   "id": "94318a99",
   "metadata": {},
   "source": [
    "**Firstly, you install all the pytorch packages by importing the torch libraries above as shown above.**"
   ]
  },
  {
   "cell_type": "markdown",
   "id": "9eb09e5b",
   "metadata": {},
   "source": [
    "**Let's create a random image data array. Say it's a 32 by 32 black-and-white pixel image.**"
   ]
  },
  {
   "cell_type": "code",
   "execution_count": 366,
   "id": "28a8ce0f",
   "metadata": {},
   "outputs": [
    {
     "data": {
      "text/plain": [
       "array([[[[0.6063012 , 0.54967946, 0.00154616, ..., 0.35343838,\n",
       "          0.09142447, 0.44434983],\n",
       "         [0.42552126, 0.68634622, 0.04294206, ..., 0.34019779,\n",
       "          0.32486761, 0.56017614],\n",
       "         [0.78396597, 0.44993023, 0.98760553, ..., 0.00121494,\n",
       "          0.33540856, 0.51243502],\n",
       "         ...,\n",
       "         [0.96956422, 0.11109589, 0.59022536, ..., 0.84303002,\n",
       "          0.7483073 , 0.95650451],\n",
       "         [0.81154883, 0.66999489, 0.94750721, ..., 0.47365276,\n",
       "          0.30178989, 0.47881601],\n",
       "         [0.7215737 , 0.64049223, 0.2452134 , ..., 0.71295936,\n",
       "          0.80275813, 0.66278304]]]])"
      ]
     },
     "execution_count": 366,
     "metadata": {},
     "output_type": "execute_result"
    }
   ],
   "source": [
    "img = np.random.uniform(0, 1, size=(1, 1, 32, 32))\n",
    "img"
   ]
  },
  {
   "cell_type": "code",
   "execution_count": 367,
   "id": "3dc4e2b0",
   "metadata": {},
   "outputs": [
    {
     "data": {
      "text/plain": [
       "(1, 1, 32, 32)"
      ]
     },
     "execution_count": 367,
     "metadata": {},
     "output_type": "execute_result"
    }
   ],
   "source": [
    "img.shape"
   ]
  },
  {
   "cell_type": "markdown",
   "id": "ea816572",
   "metadata": {},
   "source": [
    "**We put it in 1 by 1 by 32 by 32 pixel format because it is 1 batch of 1 channels of 32 by 32 pixel data - for now.**"
   ]
  },
  {
   "cell_type": "code",
   "execution_count": 368,
   "id": "f67a1127",
   "metadata": {},
   "outputs": [
    {
     "data": {
      "text/plain": [
       "<matplotlib.image.AxesImage at 0x1ff7ec7b400>"
      ]
     },
     "execution_count": 368,
     "metadata": {},
     "output_type": "execute_result"
    },
    {
     "data": {
      "image/png": "[encoded data removed]",
      "text/plain": [
       "<Figure size 432x288 with 1 Axes>"
      ]
     },
     "metadata": {
      "needs_background": "light"
     },
     "output_type": "display_data"
    }
   ],
   "source": [
    "plt.imshow(img[0][0], cmap='gray')"
   ]
  },
  {
   "cell_type": "markdown",
   "id": "4912ff19",
   "metadata": {},
   "source": [
    "**This is only random data for now. We can't classify this as anything but we will attempt to use this junk as demonstration to learn how Resnet CNN works.**"
   ]
  },
  {
   "cell_type": "code",
   "execution_count": 369,
   "id": "ebc1ae17",
   "metadata": {},
   "outputs": [],
   "source": [
    "conv1 = nn.Sequential(\n",
    "        nn.Conv2d(in_channels = 1, out_channels = 4, kernel_size = 5, stride = 2, padding = 2),\n",
    "        nn.BatchNorm2d(num_features = 4),\n",
    "        nn.ReLU())\n",
    "\n",
    "max_pool = nn.MaxPool2d((2, 2), stride = 2)\n",
    "\n",
    "next_convs = nn.Sequential(\n",
    "            nn.Conv2d(4, 16, kernel_size=3, stride=2, padding=1),\n",
    "            nn.BatchNorm2d(16),\n",
    "            nn.Conv2d(16, 16, kernel_size=3, stride=1, padding=1),\n",
    "            nn.BatchNorm2d(16),\n",
    "            nn.ReLU())\n",
    "\n",
    "fc = nn.Sequential(\n",
    "            nn.Linear(256, 64),\n",
    "            nn.ReLU(),\n",
    "            nn.Linear(64, 64),\n",
    "            nn.ReLU(),\n",
    "            nn.Linear(64, 10))"
   ]
  },
  {
   "cell_type": "markdown",
   "id": "b54fa566",
   "metadata": {},
   "source": [
    "**Before inputting your data, always make sure that your input-data is a torch tensor variable. Otherwise, back-propagation won't be possible**"
   ]
  },
  {
   "cell_type": "code",
   "execution_count": 370,
   "id": "f7df08bc",
   "metadata": {},
   "outputs": [
    {
     "data": {
      "text/plain": [
       "torch.Size([1, 1, 32, 32])"
      ]
     },
     "execution_count": 370,
     "metadata": {},
     "output_type": "execute_result"
    }
   ],
   "source": [
    "img = torch.tensor(img, dtype = torch.float32)\n",
    "img.shape"
   ]
  },
  {
   "cell_type": "code",
   "execution_count": 371,
   "id": "7878db39",
   "metadata": {},
   "outputs": [
    {
     "data": {
      "text/plain": [
       "torch.Size([1, 4, 16, 16])"
      ]
     },
     "execution_count": 371,
     "metadata": {},
     "output_type": "execute_result"
    }
   ],
   "source": [
    "img = conv1(img)\n",
    "img.shape"
   ]
  },
  {
   "cell_type": "markdown",
   "id": "74d05d36",
   "metadata": {},
   "source": [
    "**After running through the convolution layer, the data turned from 1 batch of 1 channel of 32 by 32 pixel data to 1 batch of 4 channels of 16 by 16 pixel data. This is due to the 5 by 5 kernel that passed over pixel data.**"
   ]
  },
  {
   "cell_type": "code",
   "execution_count": 372,
   "id": "0545e0e4",
   "metadata": {},
   "outputs": [
    {
     "data": {
      "text/plain": [
       "torch.Size([1, 4, 8, 8])"
      ]
     },
     "execution_count": 372,
     "metadata": {},
     "output_type": "execute_result"
    }
   ],
   "source": [
    "img = max_pool(img)\n",
    "img.shape"
   ]
  },
  {
   "cell_type": "markdown",
   "id": "9030a531",
   "metadata": {},
   "source": [
    "**Max pooling simply takes the maximum data value in a *x* by *y* kernel. For every 2 by 2 block in *img*, we pooled only the maximum value, therefore the image turned into 1 batch by 4 channels of 8 by 8 pixel data.**"
   ]
  },
  {
   "cell_type": "code",
   "execution_count": 373,
   "id": "ce912f1f",
   "metadata": {},
   "outputs": [
    {
     "data": {
      "text/plain": [
       "torch.Size([1, 16, 4, 4])"
      ]
     },
     "execution_count": 373,
     "metadata": {},
     "output_type": "execute_result"
    }
   ],
   "source": [
    "img = next_convs(img)\n",
    "img.shape"
   ]
  },
  {
   "cell_type": "markdown",
   "id": "da582c6a",
   "metadata": {},
   "source": [
    "**Although there is only 1 layer of convolutions in this example, the data will pass through multiple layers of convolutions as shown in the example above.**"
   ]
  },
  {
   "cell_type": "code",
   "execution_count": 374,
   "id": "6058e4db",
   "metadata": {},
   "outputs": [
    {
     "data": {
      "text/plain": [
       "torch.Size([1, 256])"
      ]
     },
     "execution_count": 374,
     "metadata": {},
     "output_type": "execute_result"
    }
   ],
   "source": [
    "img = img.view(img.shape[0], -1)\n",
    "img.shape"
   ]
  },
  {
   "cell_type": "markdown",
   "id": "9831cf3e",
   "metadata": {},
   "source": [
    "**After this, flatten the data into your batch amount by 1 line of data so that it may be passed through a fully connected layer.**"
   ]
  },
  {
   "cell_type": "code",
   "execution_count": 375,
   "id": "3173def1",
   "metadata": {},
   "outputs": [
    {
     "data": {
      "text/plain": [
       "torch.Size([1, 10])"
      ]
     },
     "execution_count": 375,
     "metadata": {},
     "output_type": "execute_result"
    }
   ],
   "source": [
    "img = fc(img)\n",
    "img.shape"
   ]
  },
  {
   "cell_type": "markdown",
   "id": "25da6123",
   "metadata": {},
   "source": [
    "**After passing through the fully-connected layer, you can classify what the image data holds by looking at what it could be of 10 choices.**"
   ]
  },
  {
   "cell_type": "code",
   "execution_count": null,
   "id": "0d2dcb3d",
   "metadata": {},
   "outputs": [],
   "source": []
  },
  {
   "cell_type": "code",
   "execution_count": null,
   "id": "3a197b75",
   "metadata": {},
   "outputs": [],
   "source": []
  },
  {
   "cell_type": "code",
   "execution_count": null,
   "id": "c6b8b133",
   "metadata": {},
   "outputs": [],
   "source": []
  },
  {
   "cell_type": "markdown",
   "id": "746ffa9d",
   "metadata": {},
   "source": [
    "**Of course, the above was only a simplified version of a resnet network. A real resnet network looks like what would be shown below.**"
   ]
  },
  {
   "cell_type": "code",
   "execution_count": 376,
   "id": "445eb971",
   "metadata": {},
   "outputs": [],
   "source": [
    "class Block(nn.Module):\n",
    "    \n",
    "    def __init__(self, in_channels, out_channels, identity_downsample=None, stride=1):\n",
    "        super(Block, self).__init__()\n",
    "        self.conv1 = nn.Conv2d(in_channels, out_channels, kernel_size=3, stride=stride, padding=1)\n",
    "        self.bn1 = nn.BatchNorm2d(out_channels)\n",
    "        self.conv2 = nn.Conv2d(out_channels, out_channels, kernel_size=3, stride=1, padding=1)\n",
    "        self.bn2 = nn.BatchNorm2d(out_channels)\n",
    "        self.relu = nn.ReLU()\n",
    "        self.identity_downsample = identity_downsample\n",
    "        \n",
    "    def forward(self, x):\n",
    "        identity = x\n",
    "        x = self.conv1(x)\n",
    "        x = self.bn1(x)\n",
    "        x = self.relu(x)\n",
    "        x = self.conv2(x)\n",
    "        x = self.bn2(x)\n",
    "        if self.identity_downsample is not None:\n",
    "            identity = self.identity_downsample(identity)\n",
    "        x += identity\n",
    "        x = self.relu(x)\n",
    "        return x"
   ]
  },
  {
   "cell_type": "code",
   "execution_count": 377,
   "id": "e4171ab0",
   "metadata": {},
   "outputs": [],
   "source": [
    "class ResNet_18(nn.Module):\n",
    "    \n",
    "    def __init__(self, image_channels, num_classes):\n",
    "        \n",
    "        super(ResNet_18, self).__init__()\n",
    "        \n",
    "        self.in_channels = 64\n",
    "        self.conv1 = nn.Conv2d(image_channels, 64, kernel_size=7, stride=2, padding=3)\n",
    "        self.bn1 = nn.BatchNorm2d(64)\n",
    "        self.relu = nn.ReLU()\n",
    "        self.maxpool = nn.MaxPool2d(kernel_size=3, stride=2, padding=1)\n",
    "        \n",
    "        #resnet layers\n",
    "        self.layer1 = self.__make_layer(64, 64, stride=1)\n",
    "        self.layer2 = self.__make_layer(64, 128, stride=2)\n",
    "        self.layer3 = self.__make_layer(128, 256, stride=2)\n",
    "        self.layer4 = self.__make_layer(256, 512, stride=2)\n",
    "        \n",
    "        self.avgpool = nn.AdaptiveAvgPool2d((1, 1))\n",
    "        self.fc = nn.Linear(512, num_classes)\n",
    "        \n",
    "    def __make_layer(self, in_channels, out_channels, stride):\n",
    "        \n",
    "        identity_downsample = None\n",
    "        if stride != 1:\n",
    "            identity_downsample = self.identity_downsample(in_channels, out_channels)\n",
    "            \n",
    "        return nn.Sequential(\n",
    "            Block(in_channels, out_channels, identity_downsample=identity_downsample, stride=stride), \n",
    "            Block(out_channels, out_channels)\n",
    "        )\n",
    "        \n",
    "    def forward(self, x):\n",
    "        \n",
    "        x = self.conv1(x)\n",
    "        x = self.bn1(x)\n",
    "        x = self.relu(x)\n",
    "        x = self.maxpool(x)\n",
    "        \n",
    "        x = self.layer1(x)\n",
    "        x = self.layer2(x)\n",
    "        x = self.layer3(x)\n",
    "        x = self.layer4(x)\n",
    "        \n",
    "        x = self.avgpool(x)\n",
    "        x = x.view(x.shape[0], -1)\n",
    "        x = self.fc(x)\n",
    "        return x \n",
    "    \n",
    "    def identity_downsample(self, in_channels, out_channels):\n",
    "        \n",
    "        return nn.Sequential(\n",
    "            nn.Conv2d(in_channels, out_channels, kernel_size=3, stride=2, padding=1), \n",
    "            nn.BatchNorm2d(out_channels)\n",
    "        )"
   ]
  }
 ],
 "metadata": {
  "kernelspec": {
   "display_name": "Python 3 (ipykernel)",
   "language": "python",
   "name": "python3"
  },
  "language_info": {
   "codemirror_mode": {
    "name": "ipython",
    "version": 3
   },
   "file_extension": ".py",
   "mimetype": "text/x-python",
   "name": "python",
   "nbconvert_exporter": "python",
   "pygments_lexer": "ipython3",
   "version": "3.9.12"
  }
 },
 "nbformat": 4,
 "nbformat_minor": 5
}
