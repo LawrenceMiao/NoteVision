{
 "cells": [
  {
   "cell_type": "code",
   "execution_count": null,
   "metadata": {},
   "outputs": [],
   "source": [
<<<<<<< HEAD
    "import torch\n",
    "from torch import nn"
=======
    "import torch"
>>>>>>> be6a495bd78be5d41840d5cc45e6b5b29a0f4f5d
   ]
  }
 ],
 "metadata": {
  "language_info": {
   "name": "python"
  },
  "orig_nbformat": 4
 },
 "nbformat": 4,
 "nbformat_minor": 2
}
